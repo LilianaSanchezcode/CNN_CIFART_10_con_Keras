{
  "nbformat": 4,
  "nbformat_minor": 0,
  "metadata": {
    "colab": {
      "name": "Caso práctico: CNN  CIFAR-10 en Keras.ipynb",
      "provenance": [],
      "collapsed_sections": []
    },
    "kernelspec": {
      "name": "python3",
      "display_name": "Python 3"
    },
    "accelerator": "GPU"
  },
  "cells": [
    {
      "cell_type": "markdown",
      "metadata": {
        "id": "Npi1JN8L1MRE"
      },
      "source": [
        "> **Redes Neuronales Convolucionales (CNN)**\n",
        "\n",
        "\n",
        "\n"
      ]
    },
    {
      "cell_type": "markdown",
      "metadata": {
        "id": "EPOgWVKu1THb"
      },
      "source": [
        "\n",
        "Las redes neuronales convolucionales (CNN) son excelentes herramientas para crear clasificadores de imágenes.En las redes neuronales, la red neuronal convolucional (ConvNets o CNN) es una de las principales categorías para el reconocimiento de imágenes, las clasificaciones de imágenes, la detección de objetos, el reconocimiento de rostros, etc., son algunas de las áreas en las que las CNN se utilizan ampliamente."
      ]
    },
    {
      "cell_type": "markdown",
      "metadata": {
        "id": "yVysr8orFEOQ"
      },
      "source": [
        "**Fuente de la data:**  \n",
        "El conjunto de datos CIFAR-10\n",
        "El conjunto de datos CIFAR-10 contiene 60.000 imágenes RGB de 32 × 32x3 píxeles en 10 clases, lo que significa 6.000 por clase.  Hay 50000 imágenes de entrenamiento y 10000 imágenes de prueba (están contenidos en la libreria keras).\n",
        "\n",
        "El conjunto de datos CIFAR-10 tiene 10 etiquetas diferentes:\n",
        "\n",
        "* Avión\n",
        "\n",
        "* Automóvil\n",
        "\n",
        "* Pájaro\n",
        "\n",
        "* Gato\n",
        "\n",
        "* Ciervo\n",
        "\n",
        "* Perro\n",
        "\n",
        "* Rana\n",
        "\n",
        "* Caballo\n",
        "\n",
        "* Barco\n",
        "\n",
        "* Camión\n",
        "\n",
        "\n"
      ]
    },
    {
      "cell_type": "markdown",
      "metadata": {
        "id": "X2JTRvMz1p5r"
      },
      "source": [
        "Validando que la GPU de Google esta activa."
      ]
    },
    {
      "cell_type": "code",
      "metadata": {
        "id": "soRtGGnf9vKz",
        "colab": {
          "base_uri": "https://localhost:8080/"
        },
        "outputId": "56727a16-eca3-4e1f-8646-179e45a642db"
      },
      "source": [
        "import tensorflow as tf\n",
        "device_name = tf.test.gpu_device_name()\n",
        "if device_name != '/device:GPU:0':\n",
        "  raise SystemError('GPU device not found')\n",
        "print('Found GPU at: {}'.format(device_name))"
      ],
      "execution_count": 1,
      "outputs": [
        {
          "output_type": "stream",
          "name": "stdout",
          "text": [
            "Found GPU at: /device:GPU:0\n"
          ]
        }
      ]
    },
    {
      "cell_type": "markdown",
      "metadata": {
        "id": "EmOwNX3P01Z-"
      },
      "source": [
        "importe todos los módulos y bibliotecas necesarios."
      ]
    },
    {
      "cell_type": "code",
      "metadata": {
        "id": "jNpvX49tvQh5"
      },
      "source": [
        "import numpy as np\n",
        "import matplotlib.pyplot as plt\n",
        "%matplotlib inline\n",
        "from __future__ import print_function\n",
        "import keras\n",
        "from keras.models import Sequential\n",
        "from keras.layers import Dense, Conv2D, MaxPooling2D, Dropout, Flatten"
      ],
      "execution_count": 2,
      "outputs": []
    },
    {
      "cell_type": "markdown",
      "metadata": {
        "id": "G5rK8NaKqQqj"
      },
      "source": [
        "Se carga el conjunto de datos y se  divide en conjuntos de test y de train."
      ]
    },
    {
      "cell_type": "code",
      "metadata": {
        "id": "OQRNgaavvXTi",
        "colab": {
          "base_uri": "https://localhost:8080/"
        },
        "outputId": "cf498bb1-1e54-4c2f-e4bf-3013bbc3d62f"
      },
      "source": [
        "from keras.datasets import cifar10\n",
        "(train_images, train_labels), (test_images, test_labels) = cifar10.load_data()"
      ],
      "execution_count": 3,
      "outputs": [
        {
          "output_type": "stream",
          "name": "stdout",
          "text": [
            "Downloading data from https://www.cs.toronto.edu/~kriz/cifar-10-python.tar.gz\n",
            "170500096/170498071 [==============================] - 4s 0us/step\n",
            "170508288/170498071 [==============================] - 4s 0us/step\n"
          ]
        }
      ]
    },
    {
      "cell_type": "code",
      "metadata": {
        "id": "c0Eufun1vddY"
      },
      "source": [
        "from tensorflow.keras.utils import to_categorical"
      ],
      "execution_count": 4,
      "outputs": []
    },
    {
      "cell_type": "markdown",
      "metadata": {
        "id": "bdCkuT1frS9l"
      },
      "source": [
        "se imprime shape de la muestra de train, y shape de la muestra de testy el número total de clases presentes en CIFAR-10. Hay 10 clases como se describio antes. Por ejemplo, se imprime dos imágenes de ejemplo del conjunto de train (1) y del conjunto de test (1).\n"
      ]
    },
    {
      "cell_type": "code",
      "metadata": {
        "id": "zcFYJSRTvmEg",
        "colab": {
          "base_uri": "https://localhost:8080/",
          "height": 119
        },
        "outputId": "a9660f59-ee03-4784-b31f-3c848f26dbf3"
      },
      "source": [
        "print('Training data shape : ', train_images.shape, train_labels.shape)\n",
        "\n",
        "print('Testing data shape : ', test_images.shape, test_labels.shape)\n",
        "\n",
        "# Find the unique numbers from the train labels\n",
        "classes = np.unique(train_labels)\n",
        "nClasses = len(classes)\n",
        "print('Total number of outputs : ', nClasses)\n",
        "print('Output classes : ', classes)\n",
        "\n",
        "plt.figure(figsize=[4,2])"
      ],
      "execution_count": 5,
      "outputs": [
        {
          "output_type": "stream",
          "name": "stdout",
          "text": [
            "Training data shape :  (50000, 32, 32, 3) (50000, 1)\n",
            "Testing data shape :  (10000, 32, 32, 3) (10000, 1)\n",
            "Total number of outputs :  10\n",
            "Output classes :  [0 1 2 3 4 5 6 7 8 9]\n"
          ]
        },
        {
          "output_type": "execute_result",
          "data": {
            "text/plain": [
              "<Figure size 288x144 with 0 Axes>"
            ]
          },
          "metadata": {},
          "execution_count": 5
        },
        {
          "output_type": "display_data",
          "data": {
            "text/plain": [
              "<Figure size 288x144 with 0 Axes>"
            ]
          },
          "metadata": {}
        }
      ]
    },
    {
      "cell_type": "code",
      "metadata": {
        "id": "hJ0V-Ntmvq0B",
        "colab": {
          "base_uri": "https://localhost:8080/",
          "height": 233
        },
        "outputId": "1c349d17-b99c-4bdf-f33e-3832267ba4fd"
      },
      "source": [
        "# Muestra imagen del onjunto de train \n",
        "plt.subplot(121)\n",
        "plt.imshow(train_images[0,:,:], cmap='gray')\n",
        "plt.title(\"Ground Truth : {}\".format(train_labels[0]))\n"
      ],
      "execution_count": 6,
      "outputs": [
        {
          "output_type": "execute_result",
          "data": {
            "text/plain": [
              "Text(0.5, 1.0, 'Ground Truth : [6]')"
            ]
          },
          "metadata": {},
          "execution_count": 6
        },
        {
          "output_type": "display_data",
          "data": {
            "image/png": "[encoded data removed]",
            "text/plain": [
              "<Figure size 432x288 with 1 Axes>"
            ]
          },
          "metadata": {
            "needs_background": "light"
          }
        }
      ]
    },
    {
      "cell_type": "code",
      "metadata": {
        "id": "VsuQBDMfvu00",
        "colab": {
          "base_uri": "https://localhost:8080/",
          "height": 233
        },
        "outputId": "d812d1fb-8edb-4877-aa26-ff83b31a1a49"
      },
      "source": [
        "# Muestra imagen del conjunto de test \n",
        "plt.subplot(122)\n",
        "plt.imshow(test_images[0,:,:], cmap='gray')\n",
        "plt.title(\"Ground Truth : {}\".format(test_labels[0]))"
      ],
      "execution_count": 7,
      "outputs": [
        {
          "output_type": "execute_result",
          "data": {
            "text/plain": [
              "Text(0.5, 1.0, 'Ground Truth : [3]')"
            ]
          },
          "metadata": {},
          "execution_count": 7
        },
        {
          "output_type": "display_data",
          "data": {
            "image/png": "[encoded data removed]",
            "text/plain": [
              "<Figure size 432x288 with 1 Axes>"
            ]
          },
          "metadata": {
            "needs_background": "light"
          }
        }
      ]
    },
    {
      "cell_type": "code",
      "metadata": {
        "id": "PCarsrFJv0JA"
      },
      "source": [
        "# Find the shape of input images and create the variable input_shape\n",
        "nRows,nCols,nDims = train_images.shape[1:]\n",
        "train_data = train_images.reshape(train_images.shape[0], nRows, nCols, nDims)\n",
        "test_data = test_images.reshape(test_images.shape[0], nRows, nCols, nDims)\n",
        "input_shape = (nRows, nCols, nDims)"
      ],
      "execution_count": 8,
      "outputs": []
    },
    {
      "cell_type": "code",
      "metadata": {
        "id": "qx9L9Y4cv3p9"
      },
      "source": [
        "# Change to float datatype\n",
        "train_data = train_data.astype('float32')\n",
        "test_data = test_data.astype('float32')"
      ],
      "execution_count": 9,
      "outputs": []
    },
    {
      "cell_type": "markdown",
      "metadata": {
        "id": "ZzbekgWSuLqK"
      },
      "source": [
        "Normalice los datos entre 0–1 dividiendo los datos del tren y los datos de prueba con 255 y luego convierta todas las etiquetas en un vector caliente con la función to_catagorical () ."
      ]
    },
    {
      "cell_type": "code",
      "metadata": {
        "id": "5iHjJRI3wAW5"
      },
      "source": [
        "\n",
        "#Escale los datos para que se encuentren entre 0 y 1\n",
        "\n",
        "train_data /= 255\n",
        "test_data /= 255"
      ],
      "execution_count": 10,
      "outputs": []
    },
    {
      "cell_type": "markdown",
      "metadata": {
        "id": "Y8a693cwubk-"
      },
      "source": [
        "Muestre el cambio para la etiqueta de categoría usando codificación one-hot."
      ]
    },
    {
      "cell_type": "code",
      "metadata": {
        "id": "DF5_CBPawD1v"
      },
      "source": [
        "# Cambie las etiquetas de entero a datos categóricos \n",
        "train_labels_one_hot = to_categorical(train_labels)\n",
        "test_labels_one_hot = to_categorical(test_labels)"
      ],
      "execution_count": 11,
      "outputs": []
    },
    {
      "cell_type": "code",
      "metadata": {
        "id": "8gmUkbgHwHVx",
        "colab": {
          "base_uri": "https://localhost:8080/"
        },
        "outputId": "dbc4a0ba-1e94-4b1d-a0b6-b9a2f2ec2d30"
      },
      "source": [
        "# Muestre los cambios de etiquetas categóricas usando one-hot encoding \n",
        "print('Original label 0 : ', train_labels[0])\n",
        "print('After conversion to categorical ( one-hot ) : ', train_labels_one_hot[0])"
      ],
      "execution_count": 12,
      "outputs": [
        {
          "output_type": "stream",
          "name": "stdout",
          "text": [
            "Original label 0 :  [6]\n",
            "After conversion to categorical ( one-hot ) :  [0. 0. 0. 0. 0. 0. 1. 0. 0. 0.]\n"
          ]
        }
      ]
    },
    {
      "cell_type": "markdown",
      "metadata": {
        "id": "0GSww2Yxu0Kq"
      },
      "source": [
        "**creando el modelo**"
      ]
    },
    {
      "cell_type": "markdown",
      "metadata": {
        "id": "zqkn1ZhUum4y"
      },
      "source": [
        "Se Agrega capas de Convo seguidas de capas pooling . \n",
        "\n",
        "Luego se conecta la capa Densa (FC) para predecir las clases.\n",
        "\n",
        "Los datos de entrada alimentan a la primera capa Convo, la salida de esa capa Convo actúa como entrada para la siguiente capa Convo y así sucesivamente. Finalmente, los datos se envían a la capa FC que intenta predecir las etiquetas correctas.\n"
      ]
    },
    {
      "cell_type": "code",
      "metadata": {
        "id": "pblTzBQ7wLzE"
      },
      "source": [
        "def createModel():\n",
        "    model = Sequential()\n",
        "    # Las primeras 2 capas con filtros de ventana de tamaño 3x3 \n",
        "    model.add(Conv2D(32, (3, 3), padding='same', activation='relu', input_shape=input_shape))\n",
        "    model.add(Conv2D(32, (3, 3), activation='relu'))\n",
        "    model.add(MaxPooling2D(pool_size=(2, 2)))\n",
        "    model.add(Dropout(0.25))\n",
        "\n",
        "    model.add(Conv2D(64, (3, 3), padding='same', activation='relu'))\n",
        "    model.add(Conv2D(64, (3, 3), activation='relu'))\n",
        "    model.add(MaxPooling2D(pool_size=(2, 2)))\n",
        "    model.add(Dropout(0.25))\n",
        "\n",
        "    model.add(Conv2D(64, (3, 3), padding='same', activation='relu'))\n",
        "    model.add(Conv2D(64, (3, 3), activation='relu'))\n",
        "    model.add(MaxPooling2D(pool_size=(2, 2)))\n",
        "    model.add(Dropout(0.25))\n",
        "\n",
        "    model.add(Flatten())\n",
        "    model.add(Dense(512, activation='relu'))\n",
        "    model.add(Dropout(0.5))\n",
        "    model.add(Dense(nClasses, activation='softmax'))\n",
        "    \n",
        "    return model"
      ],
      "execution_count": 13,
      "outputs": []
    },
    {
      "cell_type": "markdown",
      "metadata": {
        "id": "mGl-T1sBwmIJ"
      },
      "source": [
        "**Compilación del modelo**"
      ]
    },
    {
      "cell_type": "markdown",
      "metadata": {
        "id": "xY704rCawEQw"
      },
      "source": [
        "Se inicializa todos los parámetros y se  compila el modelo con rmsprops optimizer. Hay muchos optimizadores, por ejemplo :\n",
        "* Adam \n",
        "* SGD, \n",
        "* Gradient Descent,\n",
        "* Adagrad, \n",
        "* Adadelta \n",
        "*  Adamax. \n",
        "\n",
        "\n",
        "Con un  lote de 256 y 50 épocas.\n"
      ]
    },
    {
      "cell_type": "code",
      "metadata": {
        "id": "XrHhmpN-wP6A"
      },
      "source": [
        "model1 = createModel()\n",
        "batch_size = 256\n",
        "epochs = 50\n",
        "model1.compile(optimizer='rmsprop', loss='categorical_crossentropy', metrics=['accuracy'])\n"
      ],
      "execution_count": 14,
      "outputs": []
    },
    {
      "cell_type": "markdown",
      "metadata": {
        "id": "dBv6TTAjxz2b"
      },
      "source": [
        "**model.summary () :** Se usa para ver todos los parámetros y formas en cada capa en el modelo. Se observa que los parámetros totales son 276, 138 y los parámetros entrenables totales son 276, 138. El parámetro no entrenable es 0."
      ]
    },
    {
      "cell_type": "code",
      "metadata": {
        "id": "TwiVtFGvxaGW",
        "colab": {
          "base_uri": "https://localhost:8080/"
        },
        "outputId": "75c1151d-6e75-424a-cd38-fe75de01c2fe"
      },
      "source": [
        "model1.summary()"
      ],
      "execution_count": 15,
      "outputs": [
        {
          "output_type": "stream",
          "name": "stdout",
          "text": [
            "Model: \"sequential\"\n",
            "_________________________________________________________________\n",
            "Layer (type)                 Output Shape              Param #   \n",
            "=================================================================\n",
            "conv2d (Conv2D)              (None, 32, 32, 32)        896       \n",
            "_________________________________________________________________\n",
            "conv2d_1 (Conv2D)            (None, 30, 30, 32)        9248      \n",
            "_________________________________________________________________\n",
            "max_pooling2d (MaxPooling2D) (None, 15, 15, 32)        0         \n",
            "_________________________________________________________________\n",
            "dropout (Dropout)            (None, 15, 15, 32)        0         \n",
            "_________________________________________________________________\n",
            "conv2d_2 (Conv2D)            (None, 15, 15, 64)        18496     \n",
            "_________________________________________________________________\n",
            "conv2d_3 (Conv2D)            (None, 13, 13, 64)        36928     \n",
            "_________________________________________________________________\n",
            "max_pooling2d_1 (MaxPooling2 (None, 6, 6, 64)          0         \n",
            "_________________________________________________________________\n",
            "dropout_1 (Dropout)          (None, 6, 6, 64)          0         \n",
            "_________________________________________________________________\n",
            "conv2d_4 (Conv2D)            (None, 6, 6, 64)          36928     \n",
            "_________________________________________________________________\n",
            "conv2d_5 (Conv2D)            (None, 4, 4, 64)          36928     \n",
            "_________________________________________________________________\n",
            "max_pooling2d_2 (MaxPooling2 (None, 2, 2, 64)          0         \n",
            "_________________________________________________________________\n",
            "dropout_2 (Dropout)          (None, 2, 2, 64)          0         \n",
            "_________________________________________________________________\n",
            "flatten (Flatten)            (None, 256)               0         \n",
            "_________________________________________________________________\n",
            "dense (Dense)                (None, 512)               131584    \n",
            "_________________________________________________________________\n",
            "dropout_3 (Dropout)          (None, 512)               0         \n",
            "_________________________________________________________________\n",
            "dense_1 (Dense)              (None, 10)                5130      \n",
            "=================================================================\n",
            "Total params: 276,138\n",
            "Trainable params: 276,138\n",
            "Non-trainable params: 0\n",
            "_________________________________________________________________\n"
          ]
        }
      ]
    },
    {
      "cell_type": "markdown",
      "metadata": {
        "id": "U4jc22UGyjBf"
      },
      "source": [
        "**Entrenamiento y Evaluación del modelo**"
      ]
    },
    {
      "cell_type": "markdown",
      "metadata": {
        "id": "bI54CV2hyXOB"
      },
      "source": [
        "Después de compilar el modelo, se entrena el modelo mediante el método fit () y luego se evalua."
      ]
    },
    {
      "cell_type": "code",
      "metadata": {
        "id": "eQy5FHfBxcZe",
        "colab": {
          "base_uri": "https://localhost:8080/"
        },
        "outputId": "dfa900f2-d3e0-4fb8-c589-007ef60133dd"
      },
      "source": [
        "history = model1.fit(train_data, train_labels_one_hot, batch_size=batch_size, epochs=epochs, verbose=1, \n",
        "                   validation_data=(test_data, test_labels_one_hot))\n",
        "model1.evaluate(test_data, test_labels_one_hot)"
      ],
      "execution_count": 16,
      "outputs": [
        {
          "output_type": "stream",
          "name": "stdout",
          "text": [
            "Epoch 1/50\n",
            "196/196 [==============================] - 40s 44ms/step - loss: 2.0358 - accuracy: 0.2490 - val_loss: 1.9320 - val_accuracy: 0.2866\n",
            "Epoch 2/50\n",
            "196/196 [==============================] - 8s 40ms/step - loss: 1.7014 - accuracy: 0.3770 - val_loss: 1.7207 - val_accuracy: 0.3857\n",
            "Epoch 3/50\n",
            "196/196 [==============================] - 8s 40ms/step - loss: 1.5165 - accuracy: 0.4490 - val_loss: 1.5111 - val_accuracy: 0.4581\n",
            "Epoch 4/50\n",
            "196/196 [==============================] - 8s 40ms/step - loss: 1.3781 - accuracy: 0.5054 - val_loss: 1.3264 - val_accuracy: 0.5237\n",
            "Epoch 5/50\n",
            "196/196 [==============================] - 8s 40ms/step - loss: 1.2719 - accuracy: 0.5449 - val_loss: 1.2458 - val_accuracy: 0.5602\n",
            "Epoch 6/50\n",
            "196/196 [==============================] - 8s 40ms/step - loss: 1.1921 - accuracy: 0.5751 - val_loss: 1.2915 - val_accuracy: 0.5595\n",
            "Epoch 7/50\n",
            "196/196 [==============================] - 8s 40ms/step - loss: 1.1201 - accuracy: 0.6024 - val_loss: 1.0318 - val_accuracy: 0.6325\n",
            "Epoch 8/50\n",
            "196/196 [==============================] - 8s 40ms/step - loss: 1.0518 - accuracy: 0.6286 - val_loss: 1.0364 - val_accuracy: 0.6371\n",
            "Epoch 9/50\n",
            "196/196 [==============================] - 8s 41ms/step - loss: 1.0102 - accuracy: 0.6461 - val_loss: 0.9508 - val_accuracy: 0.6676\n",
            "Epoch 10/50\n",
            "196/196 [==============================] - 8s 40ms/step - loss: 0.9621 - accuracy: 0.6614 - val_loss: 0.8772 - val_accuracy: 0.6903\n",
            "Epoch 11/50\n",
            "196/196 [==============================] - 8s 40ms/step - loss: 0.9170 - accuracy: 0.6786 - val_loss: 0.8951 - val_accuracy: 0.6791\n",
            "Epoch 12/50\n",
            "196/196 [==============================] - 8s 40ms/step - loss: 0.8871 - accuracy: 0.6895 - val_loss: 0.8912 - val_accuracy: 0.6899\n",
            "Epoch 13/50\n",
            "196/196 [==============================] - 8s 41ms/step - loss: 0.8498 - accuracy: 0.7039 - val_loss: 0.8017 - val_accuracy: 0.7188\n",
            "Epoch 14/50\n",
            "196/196 [==============================] - 8s 41ms/step - loss: 0.8169 - accuracy: 0.7131 - val_loss: 0.8060 - val_accuracy: 0.7197\n",
            "Epoch 15/50\n",
            "196/196 [==============================] - 8s 40ms/step - loss: 0.7914 - accuracy: 0.7240 - val_loss: 0.7726 - val_accuracy: 0.7331\n",
            "Epoch 16/50\n",
            "196/196 [==============================] - 8s 40ms/step - loss: 0.7671 - accuracy: 0.7341 - val_loss: 0.8708 - val_accuracy: 0.7042\n",
            "Epoch 17/50\n",
            "196/196 [==============================] - 8s 41ms/step - loss: 0.7465 - accuracy: 0.7396 - val_loss: 0.7609 - val_accuracy: 0.7369\n",
            "Epoch 18/50\n",
            "196/196 [==============================] - 8s 40ms/step - loss: 0.7214 - accuracy: 0.7510 - val_loss: 0.8196 - val_accuracy: 0.7264\n",
            "Epoch 19/50\n",
            "196/196 [==============================] - 8s 41ms/step - loss: 0.7061 - accuracy: 0.7544 - val_loss: 0.8079 - val_accuracy: 0.7262\n",
            "Epoch 20/50\n",
            "196/196 [==============================] - 8s 41ms/step - loss: 0.6876 - accuracy: 0.7606 - val_loss: 0.7659 - val_accuracy: 0.7416\n",
            "Epoch 21/50\n",
            "196/196 [==============================] - 8s 42ms/step - loss: 0.6703 - accuracy: 0.7688 - val_loss: 0.7976 - val_accuracy: 0.7367\n",
            "Epoch 22/50\n",
            "196/196 [==============================] - 8s 41ms/step - loss: 0.6553 - accuracy: 0.7725 - val_loss: 0.6828 - val_accuracy: 0.7676\n",
            "Epoch 23/50\n",
            "196/196 [==============================] - 8s 41ms/step - loss: 0.6414 - accuracy: 0.7768 - val_loss: 0.6686 - val_accuracy: 0.7714\n",
            "Epoch 24/50\n",
            "196/196 [==============================] - 8s 41ms/step - loss: 0.6325 - accuracy: 0.7793 - val_loss: 0.7250 - val_accuracy: 0.7622\n",
            "Epoch 25/50\n",
            "196/196 [==============================] - 8s 41ms/step - loss: 0.6152 - accuracy: 0.7869 - val_loss: 0.7148 - val_accuracy: 0.7617\n",
            "Epoch 26/50\n",
            "196/196 [==============================] - 8s 41ms/step - loss: 0.6104 - accuracy: 0.7891 - val_loss: 0.6522 - val_accuracy: 0.7842\n",
            "Epoch 27/50\n",
            "196/196 [==============================] - 8s 41ms/step - loss: 0.5940 - accuracy: 0.7941 - val_loss: 0.7619 - val_accuracy: 0.7500\n",
            "Epoch 28/50\n",
            "196/196 [==============================] - 8s 40ms/step - loss: 0.5886 - accuracy: 0.7949 - val_loss: 0.8111 - val_accuracy: 0.7354\n",
            "Epoch 29/50\n",
            "196/196 [==============================] - 8s 41ms/step - loss: 0.5750 - accuracy: 0.8001 - val_loss: 0.6403 - val_accuracy: 0.7831\n",
            "Epoch 30/50\n",
            "196/196 [==============================] - 8s 41ms/step - loss: 0.5727 - accuracy: 0.8011 - val_loss: 0.7102 - val_accuracy: 0.7680\n",
            "Epoch 31/50\n",
            "196/196 [==============================] - 8s 41ms/step - loss: 0.5712 - accuracy: 0.8018 - val_loss: 0.6623 - val_accuracy: 0.7765\n",
            "Epoch 32/50\n",
            "196/196 [==============================] - 8s 41ms/step - loss: 0.5551 - accuracy: 0.8074 - val_loss: 0.8487 - val_accuracy: 0.7452\n",
            "Epoch 33/50\n",
            "196/196 [==============================] - 8s 41ms/step - loss: 0.5498 - accuracy: 0.8091 - val_loss: 0.6688 - val_accuracy: 0.7833\n",
            "Epoch 34/50\n",
            "196/196 [==============================] - 8s 41ms/step - loss: 0.5394 - accuracy: 0.8120 - val_loss: 0.6479 - val_accuracy: 0.7846\n",
            "Epoch 35/50\n",
            "196/196 [==============================] - 8s 40ms/step - loss: 0.5402 - accuracy: 0.8122 - val_loss: 0.6596 - val_accuracy: 0.7829\n",
            "Epoch 36/50\n",
            "196/196 [==============================] - 8s 41ms/step - loss: 0.5336 - accuracy: 0.8151 - val_loss: 0.6681 - val_accuracy: 0.7842\n",
            "Epoch 37/50\n",
            "196/196 [==============================] - 8s 40ms/step - loss: 0.5277 - accuracy: 0.8187 - val_loss: 0.6406 - val_accuracy: 0.7892\n",
            "Epoch 38/50\n",
            "196/196 [==============================] - 8s 41ms/step - loss: 0.5234 - accuracy: 0.8171 - val_loss: 0.6653 - val_accuracy: 0.7805\n",
            "Epoch 39/50\n",
            "196/196 [==============================] - 8s 41ms/step - loss: 0.5190 - accuracy: 0.8207 - val_loss: 0.7489 - val_accuracy: 0.7574\n",
            "Epoch 40/50\n",
            "196/196 [==============================] - 8s 40ms/step - loss: 0.5114 - accuracy: 0.8245 - val_loss: 0.6930 - val_accuracy: 0.7853\n",
            "Epoch 41/50\n",
            "196/196 [==============================] - 8s 41ms/step - loss: 0.5073 - accuracy: 0.8249 - val_loss: 0.6562 - val_accuracy: 0.7795\n",
            "Epoch 42/50\n",
            "196/196 [==============================] - 8s 41ms/step - loss: 0.5051 - accuracy: 0.8257 - val_loss: 0.6527 - val_accuracy: 0.7949\n",
            "Epoch 43/50\n",
            "196/196 [==============================] - 8s 40ms/step - loss: 0.5049 - accuracy: 0.8240 - val_loss: 0.6692 - val_accuracy: 0.7909\n",
            "Epoch 44/50\n",
            "196/196 [==============================] - 8s 41ms/step - loss: 0.4977 - accuracy: 0.8286 - val_loss: 0.6390 - val_accuracy: 0.7884\n",
            "Epoch 45/50\n",
            "196/196 [==============================] - 8s 41ms/step - loss: 0.4993 - accuracy: 0.8284 - val_loss: 0.6477 - val_accuracy: 0.7926\n",
            "Epoch 46/50\n",
            "196/196 [==============================] - 8s 41ms/step - loss: 0.4985 - accuracy: 0.8269 - val_loss: 0.6741 - val_accuracy: 0.7846\n",
            "Epoch 47/50\n",
            "196/196 [==============================] - 8s 41ms/step - loss: 0.4860 - accuracy: 0.8305 - val_loss: 0.6330 - val_accuracy: 0.7975\n",
            "Epoch 48/50\n",
            "196/196 [==============================] - 8s 41ms/step - loss: 0.4818 - accuracy: 0.8333 - val_loss: 0.7050 - val_accuracy: 0.7795\n",
            "Epoch 49/50\n",
            "196/196 [==============================] - 8s 41ms/step - loss: 0.4884 - accuracy: 0.8323 - val_loss: 0.6178 - val_accuracy: 0.8032\n",
            "Epoch 50/50\n",
            "196/196 [==============================] - 8s 41ms/step - loss: 0.4811 - accuracy: 0.8337 - val_loss: 0.6735 - val_accuracy: 0.7914\n",
            "313/313 [==============================] - 2s 6ms/step - loss: 0.6735 - accuracy: 0.7914\n"
          ]
        },
        {
          "output_type": "execute_result",
          "data": {
            "text/plain": [
              "[0.6734617948532104, 0.7914000153541565]"
            ]
          },
          "metadata": {},
          "execution_count": 16
        }
      ]
    },
    {
      "cell_type": "markdown",
      "metadata": {
        "id": "18B7dfujy9AJ"
      },
      "source": [
        "Después de entrenar el modelo, se obtiene un 83,37 % de accuracy/Exactitud y un 79,14 % de validation accuracy. \n",
        "\n"
      ]
    },
    {
      "cell_type": "code",
      "metadata": {
        "id": "Bl3iEO4FwcII",
        "colab": {
          "base_uri": "https://localhost:8080/",
          "height": 428
        },
        "outputId": "a864807a-c8bc-491a-b701-15063e4729be"
      },
      "source": [
        "plt.figure(figsize=[8,6])\n",
        "plt.plot(history.history['loss'],'r',linewidth=3.0)\n",
        "plt.plot(history.history['val_loss'],'b',linewidth=3.0)\n",
        "plt.legend(['Training loss', 'Validation Loss'],fontsize=18)\n",
        "plt.xlabel('Epochs ',fontsize=16)\n",
        "plt.ylabel('Loss',fontsize=16)\n",
        "plt.title('Loss Curves',fontsize=16)"
      ],
      "execution_count": 17,
      "outputs": [
        {
          "output_type": "execute_result",
          "data": {
            "text/plain": [
              "Text(0.5, 1.0, 'Loss Curves')"
            ]
          },
          "metadata": {},
          "execution_count": 17
        },
        {
          "output_type": "display_data",
          "data": {
            "image/png": "[encoded data removed]",
            "text/plain": [
              "<Figure size 576x432 with 1 Axes>"
            ]
          },
          "metadata": {
            "needs_background": "light"
          }
        }
      ]
    }
  ]
}